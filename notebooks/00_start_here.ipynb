{
 "cells": [
  {
   "cell_type": "markdown",
   "metadata": {},
   "source": [
    "# Selamat Datang di DIKTEMAN\n",
    "\n",
    "Notebook ini akan membantu Anda memahami tujuan proyek, struktur repository, dan langkah awal eksplorasi edukasi finansial berbasis budaya."
   ]
  },
  {
   "cell_type": "markdown",
   "metadata": {},
   "source": [
    "## 1. Misi & Latar Belakang\n",
    "- Memberdayakan komunitas melalui edukasi finansial yang inklusif dan berbasis kearifan budaya lokal.\n",
    "- Mendukung revitalisasi budaya dengan mengintegrasikan nilai-nilai tradisional dalam pembelajaran finansial."
   ]
  },
  {
   "cell_type": "markdown",
   "metadata": {},
   "source": [
    "## 2. Struktur Repository\n",
    "- **notebooks/**: Notebook pembelajaran dan simulasi.\n",
    "- **assets/**: Manuskrip, audio, video untuk konteks budaya.\n",
    "- **data/**: Dataset contoh.\n",
    "- **code/**: Kode Python pendukung.\n",
    "- **docs/**: Dokumen pendukung, etika, persetujuan."
   ]
  },
  {
   "cell_type": "markdown",
   "metadata": {},
   "source": [
    "## 3. Cara Memulai\n",
    "1. Baca petunjuk di notebook ini.\n",
    "2. Lanjutkan ke notebook di folder `notebooks/lessons/` untuk materi pembelajaran.\n",
    "3. Eksplorasi simulasi di folder `notebooks/simulators/`.\n",
    "4. Lihat aset budaya di folder `assets/` untuk memperkaya pemahaman."
   ]
  },
  {
   "cell_type": "markdown",
   "metadata": {},
   "source": [
    "## 4. Navigasi & Sumber Daya\n",
    "- Untuk penjelasan lebih detail tentang navigasi dan isi notebook, baca `README_NOTES.md`.\n",
    "- Referensi tambahan dan panduan dapat ditemukan di folder `docs/`."
   ]
  },
  {
   "cell_type": "markdown",
   "metadata": {},
   "source": [
    "## 5. Kontribusi & Diskusi\n",
    "- Siapapun dapat berkontribusi dengan cara sopan dan inklusif.\n",
    "- Jika ada pertanyaan, gunakan fitur issues di GitHub."
   ]
  }
 ],
 "metadata": {
  "kernelspec": {
   "display_name": "Python 3",
   "language": "python",
   "name": "python3"
  }
 },
 "nbformat": 4,
 "nbformat_minor": 2
}
